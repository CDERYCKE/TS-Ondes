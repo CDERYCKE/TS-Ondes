{
 "cells": [
  {
   "cell_type": "markdown",
   "metadata": {},
   "source": [
    "# CH4 - Comportements ondulatoires"
   ]
  },
  {
   "cell_type": "markdown",
   "metadata": {},
   "source": [
    "On souhaite représenter la somme de deux signaux sinusoïdaux de même période $ T $ (signaux synchrones). "
   ]
  },
  {
   "cell_type": "markdown",
   "metadata": {},
   "source": [
    "On considère donc le signal 1 : $ s_1 (t) = A_1 * cos\\left( \\frac{2 * \\pi}{T} * t \\right) $\n",
    "et le signal $ s_2 (t) = A_2 * cos\\left( \\frac{2 * \\pi}{T} * t + \\phi \\right) $  "
   ]
  },
  {
   "cell_type": "markdown",
   "metadata": {},
   "source": [
    "<div class=\"alert alert-info\" role=\"alert\">\n",
    "  <strong>Travail à faire sur le notebook : </strong> <br>\n",
    "    Pour les cellules suivantes, appuyez sur<strong> shift entrée</strong> pour lancer le code Python contenu chaque cellule\n",
    "</div>"
   ]
  },
  {
   "cell_type": "code",
   "execution_count": null,
   "metadata": {},
   "outputs": [],
   "source": [
    "import numpy as np\n",
    "import matplotlib.pyplot as plt\n",
    "%matplotlib inline"
   ]
  },
  {
   "cell_type": "markdown",
   "metadata": {},
   "source": [
    "<div class=\"alert alert-warning\" role=\"alert\">\n",
    "    <strong> Travail à faire : </strong> <br>\n",
    "    --> Tester le code ci-dessous <br>\n",
    "    --> Modifier le code pour qu'il trace une fonction sinusoidale de période 2 et de phase à l'origine $ \\frac{\\pi}{4} $ \n",
    "</div>"
   ]
  },
  {
   "cell_type": "code",
   "execution_count": null,
   "metadata": {},
   "outputs": [],
   "source": [
    "A1=1 # choix initial d'une amplitude de 1 unité\n",
    "T1=4 # choix initial d'une période de 4 unités\n",
    "phi1 =0 # choix initial d'une phase nulle\n",
    "\n",
    "t=np.arange(0,4*T1,T1/20) # création d'un tableau de nombres de 0 à 4* la périodeavec 20 nombres par période\n",
    "s1= A1*np.cos(2*np.pi*t/T1+phi1) # calcul des valeurs corresponantes pour le signal sinusoïdal (cos ou sinus ? idem)\n",
    "plt.figure (figsize = (7,5))\n",
    "plt.plot(t,s1,\"r+-\",label=\"onde 1\") # tracé du graphique\n",
    "plt.xlabel(\"temps(s)\")\n",
    "plt.ylabel(\"élongation\")\n",
    "plt.legend()\n",
    "plt.grid()\n",
    "plt.title (\"signal sinusoïdal\")\n",
    "plt.show"
   ]
  },
  {
   "cell_type": "markdown",
   "metadata": {},
   "source": [
    "On veut maintenant dessiner 2 signaux sinusoïdaux et dessiner aussi leur addition.  \n",
    "Il peut s'agir de 2 signaux mécaniques (ondes sonores, vagues à la surface de l'eau) ou lumineux.  \n",
    "Le code suivant permet de le faire en utilisant une fonction, ce qui permettra de le réutiliser plusieurs fois.  "
   ]
  },
  {
   "cell_type": "markdown",
   "metadata": {},
   "source": [
    "<div class=\"alert alert-info\" role=\"alert\">\n",
    "  <strong>Travail à faire sur le notebook : </strong> <br>\n",
    "    Pour les cellules suivantes, appuyez sur<strong> shift entrée</strong> pour lancer le code Python contenu chaque cellule\n",
    "</div>"
   ]
  },
  {
   "cell_type": "code",
   "execution_count": null,
   "metadata": {},
   "outputs": [],
   "source": [
    "def onderesultante(A1, A2, T, phi2,duree,Te):\n",
    "    t=np.arange(0,duree,Te)\n",
    "    s1= A1*np.cos(2*np.pi*t/T) # on pose phi1=0\n",
    "    s2= A2*np.cos(2*np.pi*t/T+phi2)\n",
    "    s=s1+s2 # on fait simplement la somme des 2 signaux\n",
    "    \n",
    "    plt.figure (figsize = (7,5))\n",
    "    plt.plot(t,s1,\"r+-\",label=\"onde 1\")\n",
    "    plt.plot(t,s2,\"b+-\",label=\"onde 2\")\n",
    "    plt.plot(t,s,\"g+-\",label=\"onde résultante\")\n",
    "    plt.xlabel(\"temps(s)\")\n",
    "    plt.ylabel(\"élongation\")\n",
    "    plt.legend()\n",
    "    plt.grid()\n",
    "    plt.title (\"Interférences de deux ondes\")\n",
    "    plt.show"
   ]
  },
  {
   "cell_type": "markdown",
   "metadata": {},
   "source": [
    "<div class=\"alert alert-warning\" role=\"alert\">\n",
    "    <strong> Travail à faire : </strong> <br>\n",
    "    --> Tester la fonction avec les données de la cellule ci-dessous <br>\n",
    "    --> Modifier les données pour étudier les interférences <br>\n",
    "    --> Vérifier l'affirmation suivante : constructives et destructives « Le caractère constructif ou destructif des interférences entre deux ondes synchrones et de sources cohérentes est lié au déphase entre ces deux ondes : celui-ci doit être un multiple pair ou impair du nombre pi. »<br>\n",
    "    --> Quelle condition faut-il respecter pour avoir des interférences complètement destructives ?\n",
    "</div>"
   ]
  },
  {
   "cell_type": "code",
   "execution_count": null,
   "metadata": {},
   "outputs": [],
   "source": [
    "A1=1 # amplitude du signal n°1\n",
    "A2=1 # amplitude du signal n°2\n",
    "T=2 # période en s\n",
    "phi2 = 0.5*np.pi # le déphasage du signla n°2 par rapport au signal n°1 est exprimé en fraction de pi\n",
    "duree= 8 # durée en s\n",
    "Te= T/40 # durée entre 2 points = période d'échantillonage , 40 points par période ici\n",
    "\n",
    "onderesultante(A1,A2,T,phi2,duree,Te) # pour obtenir le graphique correspondant"
   ]
  },
  {
   "cell_type": "markdown",
   "metadata": {},
   "source": [
    "## Compléments :\n",
    "utilisation widget pour Python"
   ]
  },
  {
   "cell_type": "markdown",
   "metadata": {},
   "source": [
    "<div class=\"alert alert-info\" role=\"alert\">\n",
    "  <strong>Travail à faire sur le notebook : </strong> <br>\n",
    "    Pour les cellules suivantes, appuyez sur<strong> shift entrée</strong> pour lancer le code Python contenu chaque cellule\n",
    "</div>"
   ]
  },
  {
   "cell_type": "code",
   "execution_count": null,
   "metadata": {},
   "outputs": [],
   "source": [
    "import ipywidgets as widgets\n",
    "from ipywidgets import interact\n",
    "from IPython.display import display\n",
    "\n"
   ]
  },
  {
   "cell_type": "code",
   "execution_count": null,
   "metadata": {},
   "outputs": [],
   "source": [
    "\n",
    "def signal_plot(amplitude, period,phase):\n",
    "   # Create a figure\n",
    "   fig, ax = plt.subplots(figsize=(5, 4))\n",
    "   # Add a grid\n",
    "   ax.grid(color='#EEEEEE', linewidth=2, linestyle='solid')\n",
    "   # Define the x range\n",
    "   x = np.linspace(0, 10, 1000)\n",
    "   # Plot the sinusoid\n",
    "   ax.plot(x, amplitude * np.sin(2*3.141593654/period*x+phase), lw=2, alpha=0.6)\n",
    "   # Define the x and y limits\n",
    "   ax.set_xlim(0, 10)\n",
    "   ax.set_ylim(-1.1, 1.1)\n"
   ]
  },
  {
   "cell_type": "code",
   "execution_count": null,
   "metadata": {},
   "outputs": [],
   "source": [
    "interact(signal_plot,\n",
    "            amplitude=(0, 1.0, 0.1),\n",
    "            period=(1, 2, 0.1),\n",
    "            phase=(0, 10, 0.1 ))"
   ]
  },
  {
   "cell_type": "code",
   "execution_count": null,
   "metadata": {},
   "outputs": [],
   "source": [
    "def interférence(period1, period2,phase):\n",
    "   # Create a figure\n",
    "   \n",
    "   fig, ax = plt.subplots(figsize=(20, 6))\n",
    "   \n",
    "   # Add a grid\n",
    "   ax.grid(color='#EEEEEE', linewidth=1, linestyle='solid')\n",
    "   # Define the x range\n",
    "   x = np.linspace(0, 40, 1000)\n",
    "   # Plot the sinusoids\n",
    "   ax.plot(x, np.sin(2*3.141593654/period1*x), \"r-\",lw=3, alpha=0.6)\n",
    "   ax.plot(x, np.sin(2*3.141593654/period2*x+phase*3.141592654), lw=3, alpha=0.6)\n",
    "   ax.plot(x, np.sin(2*3.141593654/period1*x)+np.sin(2*3.141593654/period2*x+phase*3.141592654), \"g.\", lw=2, alpha=0.6)\n",
    "   # Define the x and y limits\n",
    "   ax.set_xlim(0, 40)\n",
    "   ax.set_ylim(-2.1, 2.1)\n",
    "\n",
    "interact(interférence,\n",
    "            period1=(1, 10, 0.5),\n",
    "            period2=(1, 10, 0.5),\n",
    "            phase=(0, 1, 0.1 ))"
   ]
  },
  {
   "cell_type": "markdown",
   "metadata": {},
   "source": [
    "<div class=\"alert alert-warning\" role=\"alert\">\n",
    "    <strong> Travail à faire : </strong> <br>\n",
    "    --> Tester les programmes ci-dessus <br>\n",
    "    --> es-til possible d'avoir des interférences destructives avec des périodes différentes pour les 2 signaux ?<br>\n",
    "    --> Que se passe-t-il lorsque les 2 périodes sont très proches l'une de l'autre ? modifier le code period1=(1, 10, <strong>0.1<\\strong>),<br>\n",
    "</div>"
   ]
  },
  {
   "cell_type": "code",
   "execution_count": null,
   "metadata": {},
   "outputs": [],
   "source": []
  },
  {
   "cell_type": "code",
   "execution_count": null,
   "metadata": {},
   "outputs": [],
   "source": []
  }
 ],
 "metadata": {
  "kernelspec": {
   "display_name": "Python 3",
   "language": "python",
   "name": "python3"
  },
  "language_info": {
   "codemirror_mode": {
    "name": "ipython",
    "version": 3
   },
   "file_extension": ".py",
   "mimetype": "text/x-python",
   "name": "python",
   "nbconvert_exporter": "python",
   "pygments_lexer": "ipython3",
   "version": "3.7.6"
  }
 },
 "nbformat": 4,
 "nbformat_minor": 4
}
